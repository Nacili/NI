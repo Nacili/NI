{
 "cells": [
  {
   "cell_type": "markdown",
   "metadata": {},
   "source": [
    "# Tema - Određivanje podtipova Raka Dojke"
   ]
  },
  {
   "cell_type": "markdown",
   "metadata": {},
   "source": [
    "* Skup podatka preuzet je sa https://www.cbioportal.org/study/summary?id=brca_metabric\n",
    "* Rad koji prati skup podataka može se pogledati na https://www.ncbi.nlm.nih.gov/pmc/articles/PMC4866047/"
   ]
  },
  {
   "cell_type": "markdown",
   "metadata": {},
   "source": [
    "## Podaci\n",
    "Prilikom preuzimanja sa navedenog linka, dobija se pristup navedenim setovima podataka:\n",
    "* **data_clinical_patient.txt** - sadrži osnovne podatke o pacijentima\n",
    "* **data_clinical_sample.txt** - sadrži podatke o uzorcima tkiva koji pripadaju pacijentima iz prethodno navedenog fajla\n",
    "* **data_CNA.txt** - sadrži podatke o promeni u broju kopija gena odgovornih za (ne)razvitak raka dojke\n",
    "* **data_expression_median.txt** - sadrži podatke o ekspresiji gore navedenih gena za sve uzorke tkiva\n",
    "* **data_gene_matrix.txt** - sadrži spisak svih pacijenata (ne znam zašto su je nazvali gene_matrix kad ne odgovara nazivu)\n",
    "* **data_mRNA_median_Zscores.txt** - sadrži za svaki uzorak z-skor ekspresije gena\n",
    "* **data_mutations_extended.txt** - sadrži podatke o mutacijama gore navedenih gena\n",
    "* **data_mutations_mskcc.txt** - slično kao prethodno, samo sa drugačijim atributima\n",
    "\n",
    "Struktura fajlova je tabularna, tako da su svakom setu podataka ekstenzije promenjene sa .txt na .tsv ladi lakšeg baratanja sa podacima unutar fajlova. Svaki od navedenih fajlova ima svog meta para, koji mu opisuje sadržinu."
   ]
  },
  {
   "cell_type": "markdown",
   "metadata": {},
   "source": [
    "## Motivacija"
   ]
  },
  {
   "cell_type": "markdown",
   "metadata": {},
   "source": [
    "Kod raka dojke postoji nekoliko podtipova same bolesti:\n",
    "* claudin-low\n",
    "* LuminalA\n",
    "* LuminalB\n",
    "* Her2 enriched\n",
    "* Basal\n",
    "* Normal\n",
    "\n",
    "Svaki od ovih podtipova prima različitu terapiju i zato je jako bitno da možemo da ih razlikujemo. Ideja je da se pokuša sa integrativnim pristupom, tj. da se povežu podaci koji predstavljaju kliničku sliku sa genomskim podacima."
   ]
  },
  {
   "cell_type": "markdown",
   "metadata": {},
   "source": [
    "# Reference\n",
    "\n",
    "* Claudin-Low Breast Cancer; Clinical & Pathological Characteristics: https://www.ncbi.nlm.nih.gov/pmc/articles/PMC5207440/\n",
    "* Personalizing the treatment of women with early breast cancer: highlights of the St Gallen International Expert Consensus on the Primary Therapy of Early Breast Cancer 2013 https://www.ncbi.nlm.nih.gov/pmc/articles/PMC3755334/"
   ]
  },
  {
   "cell_type": "code",
   "execution_count": null,
   "metadata": {},
   "outputs": [],
   "source": []
  }
 ],
 "metadata": {
  "kernelspec": {
   "display_name": "Python 3",
   "language": "python",
   "name": "python3"
  },
  "language_info": {
   "codemirror_mode": {
    "name": "ipython",
    "version": 2
   },
   "file_extension": ".py",
   "mimetype": "text/x-python",
   "name": "python",
   "nbconvert_exporter": "python",
   "pygments_lexer": "ipython2",
   "version": "2.7.17"
  }
 },
 "nbformat": 4,
 "nbformat_minor": 2
}
