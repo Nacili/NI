{
 "cells": [
  {
   "cell_type": "markdown",
   "metadata": {},
   "source": [
    "# Priprema podataka\n",
    "Ovaj deo je isti kao u svesci modelovanje"
   ]
  },
  {
   "cell_type": "code",
   "execution_count": 239,
   "metadata": {},
   "outputs": [],
   "source": [
    "import pandas as pd\n",
    "import numpy as np\n",
    "import itertools\n",
    "import matplotlib.pyplot as plt\n",
    "from sklearn import svm\n",
    "from sklearn import model_selection \n",
    "from sklearn.preprocessing import StandardScaler\n",
    "from sklearn.preprocessing import OneHotEncoder\n",
    "from sklearn.ensemble import RandomForestClassifier\n",
    "from sklearn.multiclass import OutputCodeClassifier\n",
    "from sklearn.metrics import classification_report, confusion_matrix"
   ]
  },
  {
   "cell_type": "code",
   "execution_count": 117,
   "metadata": {},
   "outputs": [],
   "source": [
    "data = pd.read_csv('brca_metabric/Final_Data.tsv', sep='\\t')"
   ]
  },
  {
   "cell_type": "code",
   "execution_count": 118,
   "metadata": {},
   "outputs": [],
   "source": [
    "LYMPH_dummy = pd.get_dummies(data['LYMPH_NODES_EXAMINED_POSITIVE'], prefix='LYMPH', drop_first=True)\n",
    "CELLULARITY_dummy = pd.get_dummies(data['CELLULARITY'], prefix='CELLULARITY', drop_first=True)\n",
    "ER_dummy = pd.get_dummies(data['ER_IHC'], prefix='ER_IHC', drop_first=True)\n",
    "HER2SNP_dummy = pd.get_dummies(data['HER2_SNP6'], prefix='HER2_SNP6', drop_first=True)\n",
    "HER_dummy = pd.get_dummies(data['HER2_STATUS'], prefix='HER2_STATUS', drop_first=True)\n",
    "PR_dummy = pd.get_dummies(data['PR_STATUS'], prefix='PR_STATUS', drop_first=True)\n",
    "INTCLUS_dummy = pd.get_dummies(data['INTCLUST'], prefix='INTCLUST', drop_first=True)\n",
    "GRADE_dummy = pd.get_dummies(data['GRADE'], prefix='GRADE', drop_first=True)"
   ]
  },
  {
   "cell_type": "code",
   "execution_count": null,
   "metadata": {},
   "outputs": [],
   "source": []
  },
  {
   "cell_type": "code",
   "execution_count": 189,
   "metadata": {},
   "outputs": [],
   "source": [
    "df = pd.concat([LYMPH_dummy, CELLULARITY_dummy, ER_dummy,  HER_dummy,\n",
    "                PR_dummy, INTCLUS_dummy, GRADE_dummy], axis = 1)\n",
    "y = data[['CLAUDIN_SUBTYPE']]"
   ]
  },
  {
   "cell_type": "markdown",
   "metadata": {},
   "source": [
    "# Random Forest"
   ]
  },
  {
   "cell_type": "markdown",
   "metadata": {},
   "source": [
    "Savet je bio da se razdvoje kategorički atributi, pa da se odradi standardizacija nad nekategoričkim atributima i konačno da se oba skupa spoje. Međutim, jedini nekategorički atribut je bio 'NPI', a za njega smo utvrdili u prošlom listu da svojim prisustvom smanjuje tačnost predikcije. Zbog toga je taj atribut uklonjen, tako da standardizacija ne može ni biti odrađena."
   ]
  },
  {
   "cell_type": "code",
   "execution_count": 256,
   "metadata": {},
   "outputs": [],
   "source": [
    "xtrain, xtest, ytrain, ytest = model_selection.train_test_split(df, y, test_size=0.1, random_state=1, shuffle=True, stratify=y)"
   ]
  },
  {
   "cell_type": "code",
   "execution_count": 188,
   "metadata": {},
   "outputs": [],
   "source": [
    "# scaler = StandardScaler()\n",
    "# scaler.fit(xtrain_nc)\n",
    "# xtrain_sc = scaler.transform(xtrain_nc)\n",
    "# xtest_sc = scaler.transform(xtest_nc)"
   ]
  },
  {
   "cell_type": "markdown",
   "metadata": {},
   "source": [
    "Iskoristićemo unakrsnu validaciju GirdSearchCV iz paketa model_selection, kako bismo odredili najbolje kombinacije parametara."
   ]
  },
  {
   "cell_type": "code",
   "execution_count": 232,
   "metadata": {},
   "outputs": [],
   "source": [
    "grid_model = RandomForestClassifier()\n",
    "params = {\n",
    "    'random_state' : [0, 1, 5, 7],\n",
    "    'n_estimators': [200, 400, 600, 800], \n",
    "    'criterion': [\"gini\", \"entropy\"]\n",
    "}\n",
    "grid = model_selection.GridSearchCV(grid_model, param_grid=params, scoring='accuracy',  return_train_score=True)\n"
   ]
  },
  {
   "cell_type": "code",
   "execution_count": 233,
   "metadata": {},
   "outputs": [
    {
     "data": {
      "text/plain": [
       "GridSearchCV(cv='warn', error_score='raise-deprecating',\n",
       "       estimator=RandomForestClassifier(bootstrap=True, class_weight=None, criterion='gini',\n",
       "            max_depth=None, max_features='auto', max_leaf_nodes=None,\n",
       "            min_impurity_decrease=0.0, min_impurity_split=None,\n",
       "            min_samples_leaf=1, min_samples_split=2,\n",
       "            min_weight_fraction_leaf=0.0, n_estimators='warn', n_jobs=None,\n",
       "            oob_score=False, random_state=None, verbose=0,\n",
       "            warm_start=False),\n",
       "       fit_params=None, iid='warn', n_jobs=None,\n",
       "       param_grid={'n_estimators': [200, 400, 600, 800], 'random_state': [0, 1, 5, 7], 'criterion': ['gini', 'entropy']},\n",
       "       pre_dispatch='2*n_jobs', refit=True, return_train_score=True,\n",
       "       scoring='accuracy', verbose=0)"
      ]
     },
     "execution_count": 233,
     "metadata": {},
     "output_type": "execute_result"
    }
   ],
   "source": [
    "grid.fit(xtrain, ytrain)"
   ]
  },
  {
   "cell_type": "code",
   "execution_count": 235,
   "metadata": {},
   "outputs": [
    {
     "data": {
      "text/plain": [
       "0.5692567567567568"
      ]
     },
     "execution_count": 235,
     "metadata": {},
     "output_type": "execute_result"
    }
   ],
   "source": [
    "grid.best_score_"
   ]
  },
  {
   "cell_type": "code",
   "execution_count": 236,
   "metadata": {},
   "outputs": [
    {
     "data": {
      "text/plain": [
       "{'criterion': 'entropy', 'n_estimators': 800, 'random_state': 7}"
      ]
     },
     "execution_count": 236,
     "metadata": {},
     "output_type": "execute_result"
    }
   ],
   "source": [
    "grid.best_params_"
   ]
  },
  {
   "cell_type": "markdown",
   "metadata": {},
   "source": [
    "Zatim ćemo nad najboljom kombinacijom parametara definisati model i primeniti ga na podatke:"
   ]
  },
  {
   "cell_type": "code",
   "execution_count": 257,
   "metadata": {},
   "outputs": [
    {
     "name": "stderr",
     "output_type": "stream",
     "text": [
      "/home/naca/anaconda3/lib/python2.7/site-packages/ipykernel_launcher.py:2: DataConversionWarning: A column-vector y was passed when a 1d array was expected. Please change the shape of y to (n_samples,), for example using ravel().\n",
      "  \n"
     ]
    },
    {
     "name": "stdout",
     "output_type": "stream",
     "text": [
      "              precision    recall  f1-score   support\n",
      "\n",
      "       Basal       0.82      0.67      0.74        21\n",
      "        Her2       0.74      0.64      0.68        22\n",
      "        LumA       0.68      0.87      0.76        70\n",
      "        LumB       0.66      0.60      0.63        48\n",
      "      Normal       0.40      0.13      0.20        15\n",
      " claudin-low       0.48      0.50      0.49        22\n",
      "\n",
      "   micro avg       0.66      0.66      0.66       198\n",
      "   macro avg       0.63      0.57      0.58       198\n",
      "weighted avg       0.65      0.66      0.65       198\n",
      "\n"
     ]
    }
   ],
   "source": [
    "rf_classifier = RandomForestClassifier(random_state=7, n_estimators=800, criterion='entropy')\n",
    "rf_classifier.fit(xtrain, ytrain)\n",
    "rf_predictions = rf_classifier.predict(xtest)\n",
    "print(classification_report(ytest, rf_predictions))"
   ]
  },
  {
   "cell_type": "markdown",
   "metadata": {},
   "source": [
    "Izračunaćemo matricu konfuzije i grafički je prikazati:"
   ]
  },
  {
   "cell_type": "code",
   "execution_count": 258,
   "metadata": {},
   "outputs": [
    {
     "name": "stdout",
     "output_type": "stream",
     "text": [
      "[[14  1  1  0  1  4]\n",
      " [ 0 14  0  6  1  1]\n",
      " [ 0  0 61  7  0  2]\n",
      " [ 0  2 17 29  0  0]\n",
      " [ 0  2  5  1  2  5]\n",
      " [ 3  0  6  1  1 11]]\n"
     ]
    }
   ],
   "source": [
    "np.set_printoptions(precision=2)\n",
    "cnf_matrix = confusion_matrix(ytest, rf_predictions)\n",
    "np.set_printoptions(precision=2)\n",
    "print(cnf_matrix)"
   ]
  },
  {
   "cell_type": "code",
   "execution_count": 173,
   "metadata": {},
   "outputs": [],
   "source": [
    "def plot_confusion_matrix(cm, classes,\n",
    "                          normalize=False,\n",
    "                          title='Confusion matrix',\n",
    "                          cmap=plt.cm.Blues):\n",
    "    \"\"\"\n",
    "    This function prints and plots the confusion matrix.\n",
    "    Normalization can be applied by setting `normalize=True`.\n",
    "    \"\"\"\n",
    "    plt.imshow(cm, interpolation='nearest', cmap=cmap)\n",
    "    plt.title(title)\n",
    "    plt.colorbar()\n",
    "    tick_marks = np.arange(len(classes))\n",
    "    plt.xticks(tick_marks, classes, rotation=45)\n",
    "    plt.yticks(tick_marks, classes)\n",
    "\n",
    "    if normalize:\n",
    "        cm = cm.astype('float') / cm.sum(axis=1)[:, np.newaxis]\n",
    "        print(\"Normalized confusion matrix\")\n",
    "    else:\n",
    "        print('Confusion matrix, without normalization')\n",
    "\n",
    "    print(cm)\n",
    "\n",
    "    thresh = cm.max() / 2.\n",
    "    for i, j in itertools.product(range(cm.shape[0]), range(cm.shape[1])):\n",
    "        plt.text(j, i, cm[i, j],\n",
    "                 horizontalalignment=\"center\",\n",
    "                 color=\"white\" if cm[i, j] > thresh else \"black\")\n",
    "\n",
    "    plt.tight_layout()\n",
    "    plt.ylabel('True label')\n",
    "    plt.xlabel('Predicted label')"
   ]
  },
  {
   "cell_type": "code",
   "execution_count": 259,
   "metadata": {},
   "outputs": [
    {
     "name": "stdout",
     "output_type": "stream",
     "text": [
      "Confusion matrix, without normalization\n",
      "[[14  1  1  0  1  4]\n",
      " [ 0 14  0  6  1  1]\n",
      " [ 0  0 61  7  0  2]\n",
      " [ 0  2 17 29  0  0]\n",
      " [ 0  2  5  1  2  5]\n",
      " [ 3  0  6  1  1 11]]\n"
     ]
    },
    {
     "data": {
      "image/png": "[encoded data removed]",
      "text/plain": [
       "<Figure size 576x576 with 2 Axes>"
      ]
     },
     "metadata": {
      "needs_background": "light"
     },
     "output_type": "display_data"
    }
   ],
   "source": [
    "# Plot non-normalized confusion matrix\n",
    "plt.figure(figsize=(8, 8))\n",
    "plot_confusion_matrix(cnf_matrix, classes=['Basal', 'Her2', 'LumA', 'LumB', 'Normal', 'claudin_low'],\n",
    "                      title='Confusion matrix, without normalization')\n",
    "\n",
    "\n",
    "\n",
    "plt.show()"
   ]
  },
  {
   "cell_type": "markdown",
   "metadata": {},
   "source": [
    "Ideja je bila da se prikaže i normalizovana matrica jer daje mnogo jasniju sliku, ali su brojevi u decimalnom zapisu ispisani sa prevelikim brojem decimala, iako sam podesila parametre za preciznost zapisa. (Otkomentarisati za rezultat)"
   ]
  },
  {
   "cell_type": "code",
   "execution_count": 261,
   "metadata": {},
   "outputs": [],
   "source": [
    "#Plot normalized confusion matrix\n",
    "# plt.figure(figsize=(8, 8))\n",
    "# np.set_printoptions(precision=2)\n",
    "# plot_confusion_matrix(cnf_matrix, classes=['Basal', 'Her2', 'LumA', 'LumB', 'Normal', 'claudin_low'], normalize=True,\n",
    "#                       title='Normalized confusion matrix')\n",
    "# plt.show()"
   ]
  },
  {
   "cell_type": "markdown",
   "metadata": {},
   "source": [
    "# SVC"
   ]
  },
  {
   "cell_type": "markdown",
   "metadata": {},
   "source": [
    "Sada ćemo isti postupak ponoviti sa SVC modelom, jer je i on korišćen u prethodnoj svesci."
   ]
  },
  {
   "cell_type": "code",
   "execution_count": 240,
   "metadata": {},
   "outputs": [],
   "source": [
    "grid_model = svm.SVC()\n",
    "params = {\n",
    "    'C': [10**i for i in range(-5, 5)], \n",
    "    'gamma': [10**i for i in range(-3, 3)]\n",
    "}\n",
    "grid = model_selection.GridSearchCV(grid_model, param_grid=params, scoring='accuracy', cv=10, return_train_score=True)"
   ]
  },
  {
   "cell_type": "code",
   "execution_count": 241,
   "metadata": {},
   "outputs": [
    {
     "name": "stderr",
     "output_type": "stream",
     "text": [
      "/home/naca/anaconda3/lib/python2.7/site-packages/sklearn/model_selection/_search.py:842: DeprecationWarning: The default of the `iid` parameter will change from True to False in version 0.22 and will be removed in 0.24. This will change numeric results when test-set sizes are unequal.\n",
      "  DeprecationWarning)\n"
     ]
    },
    {
     "data": {
      "text/plain": [
       "GridSearchCV(cv=10, error_score='raise-deprecating',\n",
       "       estimator=SVC(C=1.0, cache_size=200, class_weight=None, coef0=0.0,\n",
       "  decision_function_shape='ovr', degree=3, gamma='auto_deprecated',\n",
       "  kernel='rbf', max_iter=-1, probability=False, random_state=None,\n",
       "  shrinking=True, tol=0.001, verbose=False),\n",
       "       fit_params=None, iid='warn', n_jobs=None,\n",
       "       param_grid={'C': [1e-05, 0.0001, 0.001, 0.01, 0.1, 1, 10, 100, 1000, 10000], 'gamma': [0.001, 0.01, 0.1, 1, 10, 100]},\n",
       "       pre_dispatch='2*n_jobs', refit=True, return_train_score=True,\n",
       "       scoring='accuracy', verbose=0)"
      ]
     },
     "execution_count": 241,
     "metadata": {},
     "output_type": "execute_result"
    }
   ],
   "source": [
    "grid.fit(xtrain, ytrain)"
   ]
  },
  {
   "cell_type": "code",
   "execution_count": 243,
   "metadata": {},
   "outputs": [
    {
     "data": {
      "text/plain": [
       "0.5912162162162162"
      ]
     },
     "execution_count": 243,
     "metadata": {},
     "output_type": "execute_result"
    }
   ],
   "source": [
    "grid.best_score_"
   ]
  },
  {
   "cell_type": "code",
   "execution_count": 244,
   "metadata": {},
   "outputs": [
    {
     "data": {
      "text/plain": [
       "{'C': 10, 'gamma': 0.1}"
      ]
     },
     "execution_count": 244,
     "metadata": {},
     "output_type": "execute_result"
    }
   ],
   "source": [
    "grid.best_params_"
   ]
  },
  {
   "cell_type": "code",
   "execution_count": 245,
   "metadata": {},
   "outputs": [
    {
     "name": "stdout",
     "output_type": "stream",
     "text": [
      "              precision    recall  f1-score   support\n",
      "\n",
      "       Basal       0.74      0.81      0.77        21\n",
      "        Her2       0.61      0.50      0.55        22\n",
      "        LumA       0.63      0.90      0.74        70\n",
      "        LumB       0.63      0.46      0.53        48\n",
      "      Normal       0.40      0.13      0.20        15\n",
      " claudin-low       0.53      0.41      0.46        22\n",
      "\n",
      "   micro avg       0.63      0.63      0.63       198\n",
      "   macro avg       0.59      0.54      0.54       198\n",
      "weighted avg       0.61      0.63      0.60       198\n",
      "\n"
     ]
    }
   ],
   "source": [
    "svm_classifier = svm.SVC(C=10, gamma=0.1)\n",
    "svm_classifier.fit(xtrain, ytrain)\n",
    "svm_predictions = svm_classifier.predict(xtest)\n",
    "print(classification_report(ytest, svm_predictions))"
   ]
  },
  {
   "cell_type": "code",
   "execution_count": 246,
   "metadata": {},
   "outputs": [
    {
     "name": "stdout",
     "output_type": "stream",
     "text": [
      "[[14  1  1  0  1  4]\n",
      " [ 0 14  0  6  1  1]\n",
      " [ 0  0 61  7  0  2]\n",
      " [ 0  2 17 29  0  0]\n",
      " [ 0  2  5  1  2  5]\n",
      " [ 3  0  6  1  1 11]]\n"
     ]
    }
   ],
   "source": [
    "np.set_printoptions(precision=2)\n",
    "cnf_matrix = confusion_matrix(ytest, rf_predictions)\n",
    "np.set_printoptions(precision=2)\n",
    "print(cnf_matrix)"
   ]
  },
  {
   "cell_type": "code",
   "execution_count": 247,
   "metadata": {},
   "outputs": [
    {
     "name": "stdout",
     "output_type": "stream",
     "text": [
      "Confusion matrix, without normalization\n",
      "[[14  1  1  0  1  4]\n",
      " [ 0 14  0  6  1  1]\n",
      " [ 0  0 61  7  0  2]\n",
      " [ 0  2 17 29  0  0]\n",
      " [ 0  2  5  1  2  5]\n",
      " [ 3  0  6  1  1 11]]\n"
     ]
    },
    {
     "data": {
      "image/png": "[encoded data removed]",
      "text/plain": [
       "<Figure size 576x576 with 2 Axes>"
      ]
     },
     "metadata": {
      "needs_background": "light"
     },
     "output_type": "display_data"
    }
   ],
   "source": [
    "# Plot non-normalized confusion matrix\n",
    "plt.figure(figsize=(8, 8))\n",
    "plot_confusion_matrix(cnf_matrix, classes=['Basal', 'Her2', 'LumA', 'LumB', 'Normal', 'claudin_low'],\n",
    "                      title='Confusion matrix, without normalization')\n",
    "\n",
    "\n",
    "\n",
    "plt.show()"
   ]
  },
  {
   "cell_type": "code",
   "execution_count": null,
   "metadata": {},
   "outputs": [],
   "source": []
  }
 ],
 "metadata": {
  "kernelspec": {
   "display_name": "Python 3",
   "language": "python",
   "name": "python3"
  },
  "language_info": {
   "codemirror_mode": {
    "name": "ipython",
    "version": 2
   },
   "file_extension": ".py",
   "mimetype": "text/x-python",
   "name": "python",
   "nbconvert_exporter": "python",
   "pygments_lexer": "ipython2",
   "version": "2.7.17"
  }
 },
 "nbformat": 4,
 "nbformat_minor": 2
}
