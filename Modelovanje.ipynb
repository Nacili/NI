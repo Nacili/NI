{
 "cells": [
  {
   "cell_type": "markdown",
   "metadata": {},
   "source": [
    "# Pripremni koraci"
   ]
  },
  {
   "cell_type": "code",
   "execution_count": 1,
   "metadata": {},
   "outputs": [],
   "source": [
    "import pandas as pd\n",
    "import numpy as np\n",
    "import matplotlib.pyplot as plt"
   ]
  },
  {
   "cell_type": "code",
   "execution_count": 2,
   "metadata": {},
   "outputs": [],
   "source": [
    "data = pd.read_csv('brca_metabric/Final_Data.tsv', sep='\\t')"
   ]
  },
  {
   "cell_type": "markdown",
   "metadata": {},
   "source": [
    "Da bismo mogli da izračunamo korelaciju atributa, moramo dodeliti dummy vrednosti trenutnim vrednostima atributa."
   ]
  },
  {
   "cell_type": "code",
   "execution_count": 3,
   "metadata": {},
   "outputs": [],
   "source": [
    "LYMPH_dummy = pd.get_dummies(data['LYMPH_NODES_EXAMINED_POSITIVE'], prefix='LYMPH', drop_first=True)\n",
    "CELLULARITY_dummy = pd.get_dummies(data['CELLULARITY'], prefix='CELLULARITY', drop_first=True)\n",
    "ER_dummy = pd.get_dummies(data['ER_IHC'], prefix='ER_IHC', drop_first=True)\n",
    "HER2SNP_dummy = pd.get_dummies(data['HER2_SNP6'], prefix='HER2_SNP6', drop_first=True)\n",
    "HER_dummy = pd.get_dummies(data['HER2_STATUS'], prefix='HER2_STATUS', drop_first=True)\n",
    "PR_dummy = pd.get_dummies(data['PR_STATUS'], prefix='PR_STATUS', drop_first=True)\n",
    "INTCLUS_dummy = pd.get_dummies(data['INTCLUST'], prefix='INTCLUST', drop_first=True)\n",
    "GRADE_dummy = pd.get_dummies(data['GRADE'], prefix='GRADE', drop_first=True)"
   ]
  },
  {
   "cell_type": "code",
   "execution_count": 4,
   "metadata": {},
   "outputs": [],
   "source": [
    "df = pd.concat([data['LYMPH_NODES_EXAMINED_POSITIVE'], data['NPI'], CELLULARITY_dummy, ER_dummy, HER2SNP_dummy, HER_dummy,\n",
    "                PR_dummy, INTCLUS_dummy, GRADE_dummy], axis = 1)\n",
    "y = y = data[['CLAUDIN_SUBTYPE']]"
   ]
  },
  {
   "cell_type": "code",
   "execution_count": 5,
   "metadata": {},
   "outputs": [
    {
     "data": {
      "text/html": [
       "<div>\n",
       "<style scoped>\n",
       "    .dataframe tbody tr th:only-of-type {\n",
       "        vertical-align: middle;\n",
       "    }\n",
       "\n",
       "    .dataframe tbody tr th {\n",
       "        vertical-align: top;\n",
       "    }\n",
       "\n",
       "    .dataframe thead th {\n",
       "        text-align: right;\n",
       "    }\n",
       "</style>\n",
       "<table border=\"1\" class=\"dataframe\">\n",
       "  <thead>\n",
       "    <tr style=\"text-align: right;\">\n",
       "      <th></th>\n",
       "      <th>LYMPH_NODES_EXAMINED_POSITIVE</th>\n",
       "      <th>NPI</th>\n",
       "      <th>CELLULARITY_Low</th>\n",
       "      <th>CELLULARITY_Moderate</th>\n",
       "      <th>ER_IHC_Positve</th>\n",
       "      <th>HER2_SNP6_LOSS</th>\n",
       "      <th>HER2_SNP6_NEUTRAL</th>\n",
       "      <th>HER2_SNP6_UNDEF</th>\n",
       "      <th>HER2_STATUS_Positive</th>\n",
       "      <th>PR_STATUS_Positive</th>\n",
       "      <th>...</th>\n",
       "      <th>INTCLUST_3</th>\n",
       "      <th>INTCLUST_4ER+</th>\n",
       "      <th>INTCLUST_4ER-</th>\n",
       "      <th>INTCLUST_5</th>\n",
       "      <th>INTCLUST_6</th>\n",
       "      <th>INTCLUST_7</th>\n",
       "      <th>INTCLUST_8</th>\n",
       "      <th>INTCLUST_9</th>\n",
       "      <th>GRADE_2</th>\n",
       "      <th>GRADE_3</th>\n",
       "    </tr>\n",
       "  </thead>\n",
       "  <tbody>\n",
       "    <tr>\n",
       "      <th>0</th>\n",
       "      <td>10</td>\n",
       "      <td>6.044</td>\n",
       "      <td>0</td>\n",
       "      <td>1</td>\n",
       "      <td>1</td>\n",
       "      <td>0</td>\n",
       "      <td>1</td>\n",
       "      <td>0</td>\n",
       "      <td>0</td>\n",
       "      <td>0</td>\n",
       "      <td>...</td>\n",
       "      <td>0</td>\n",
       "      <td>1</td>\n",
       "      <td>0</td>\n",
       "      <td>0</td>\n",
       "      <td>0</td>\n",
       "      <td>0</td>\n",
       "      <td>0</td>\n",
       "      <td>0</td>\n",
       "      <td>0</td>\n",
       "      <td>1</td>\n",
       "    </tr>\n",
       "    <tr>\n",
       "      <th>1</th>\n",
       "      <td>0</td>\n",
       "      <td>4.020</td>\n",
       "      <td>0</td>\n",
       "      <td>0</td>\n",
       "      <td>1</td>\n",
       "      <td>0</td>\n",
       "      <td>1</td>\n",
       "      <td>0</td>\n",
       "      <td>0</td>\n",
       "      <td>1</td>\n",
       "      <td>...</td>\n",
       "      <td>0</td>\n",
       "      <td>1</td>\n",
       "      <td>0</td>\n",
       "      <td>0</td>\n",
       "      <td>0</td>\n",
       "      <td>0</td>\n",
       "      <td>0</td>\n",
       "      <td>0</td>\n",
       "      <td>0</td>\n",
       "      <td>1</td>\n",
       "    </tr>\n",
       "    <tr>\n",
       "      <th>2</th>\n",
       "      <td>1</td>\n",
       "      <td>4.030</td>\n",
       "      <td>0</td>\n",
       "      <td>0</td>\n",
       "      <td>1</td>\n",
       "      <td>0</td>\n",
       "      <td>1</td>\n",
       "      <td>0</td>\n",
       "      <td>0</td>\n",
       "      <td>1</td>\n",
       "      <td>...</td>\n",
       "      <td>1</td>\n",
       "      <td>0</td>\n",
       "      <td>0</td>\n",
       "      <td>0</td>\n",
       "      <td>0</td>\n",
       "      <td>0</td>\n",
       "      <td>0</td>\n",
       "      <td>0</td>\n",
       "      <td>1</td>\n",
       "      <td>0</td>\n",
       "    </tr>\n",
       "    <tr>\n",
       "      <th>3</th>\n",
       "      <td>3</td>\n",
       "      <td>4.050</td>\n",
       "      <td>0</td>\n",
       "      <td>1</td>\n",
       "      <td>1</td>\n",
       "      <td>0</td>\n",
       "      <td>1</td>\n",
       "      <td>0</td>\n",
       "      <td>0</td>\n",
       "      <td>1</td>\n",
       "      <td>...</td>\n",
       "      <td>0</td>\n",
       "      <td>0</td>\n",
       "      <td>0</td>\n",
       "      <td>0</td>\n",
       "      <td>0</td>\n",
       "      <td>0</td>\n",
       "      <td>0</td>\n",
       "      <td>1</td>\n",
       "      <td>1</td>\n",
       "      <td>0</td>\n",
       "    </tr>\n",
       "    <tr>\n",
       "      <th>4</th>\n",
       "      <td>8</td>\n",
       "      <td>6.080</td>\n",
       "      <td>0</td>\n",
       "      <td>0</td>\n",
       "      <td>1</td>\n",
       "      <td>0</td>\n",
       "      <td>1</td>\n",
       "      <td>0</td>\n",
       "      <td>0</td>\n",
       "      <td>1</td>\n",
       "      <td>...</td>\n",
       "      <td>0</td>\n",
       "      <td>0</td>\n",
       "      <td>0</td>\n",
       "      <td>0</td>\n",
       "      <td>0</td>\n",
       "      <td>0</td>\n",
       "      <td>0</td>\n",
       "      <td>1</td>\n",
       "      <td>0</td>\n",
       "      <td>1</td>\n",
       "    </tr>\n",
       "  </tbody>\n",
       "</table>\n",
       "<p>5 rows × 22 columns</p>\n",
       "</div>"
      ],
      "text/plain": [
       "   LYMPH_NODES_EXAMINED_POSITIVE    NPI  CELLULARITY_Low  \\\n",
       "0                             10  6.044                0   \n",
       "1                              0  4.020                0   \n",
       "2                              1  4.030                0   \n",
       "3                              3  4.050                0   \n",
       "4                              8  6.080                0   \n",
       "\n",
       "   CELLULARITY_Moderate  ER_IHC_Positve  HER2_SNP6_LOSS  HER2_SNP6_NEUTRAL  \\\n",
       "0                     1               1               0                  1   \n",
       "1                     0               1               0                  1   \n",
       "2                     0               1               0                  1   \n",
       "3                     1               1               0                  1   \n",
       "4                     0               1               0                  1   \n",
       "\n",
       "   HER2_SNP6_UNDEF  HER2_STATUS_Positive  PR_STATUS_Positive  ...  INTCLUST_3  \\\n",
       "0                0                     0                   0  ...           0   \n",
       "1                0                     0                   1  ...           0   \n",
       "2                0                     0                   1  ...           1   \n",
       "3                0                     0                   1  ...           0   \n",
       "4                0                     0                   1  ...           0   \n",
       "\n",
       "   INTCLUST_4ER+  INTCLUST_4ER-  INTCLUST_5  INTCLUST_6  INTCLUST_7  \\\n",
       "0              1              0           0           0           0   \n",
       "1              1              0           0           0           0   \n",
       "2              0              0           0           0           0   \n",
       "3              0              0           0           0           0   \n",
       "4              0              0           0           0           0   \n",
       "\n",
       "   INTCLUST_8  INTCLUST_9  GRADE_2  GRADE_3  \n",
       "0           0           0        0        1  \n",
       "1           0           0        0        1  \n",
       "2           0           0        1        0  \n",
       "3           0           1        1        0  \n",
       "4           0           1        0        1  \n",
       "\n",
       "[5 rows x 22 columns]"
      ]
     },
     "execution_count": 5,
     "metadata": {},
     "output_type": "execute_result"
    }
   ],
   "source": [
    "df.head()"
   ]
  },
  {
   "cell_type": "code",
   "execution_count": 6,
   "metadata": {},
   "outputs": [
    {
     "data": {
      "text/plain": [
       "(1974, 22)"
      ]
     },
     "execution_count": 6,
     "metadata": {},
     "output_type": "execute_result"
    }
   ],
   "source": [
    "df.shape"
   ]
  },
  {
   "cell_type": "markdown",
   "metadata": {},
   "source": [
    "## Korelacija"
   ]
  },
  {
   "cell_type": "markdown",
   "metadata": {},
   "source": [
    "Sada ćemo da pokušamo da ustanovimo korelacije između atributa i tako smanjimo broj atributa za modelovanje."
   ]
  },
  {
   "cell_type": "code",
   "execution_count": 7,
   "metadata": {},
   "outputs": [
    {
     "data": {
      "image/png": "[encoded data removed]",
      "text/plain": [
       "<Figure size 720x720 with 2 Axes>"
      ]
     },
     "metadata": {
      "needs_background": "light"
     },
     "output_type": "display_data"
    }
   ],
   "source": [
    "corr_matrix = df.corr()\n",
    "\n",
    "plt.figure(figsize=(10,10))\n",
    "\n",
    "data_hm = pd.DataFrame(df)\n",
    "plt.xticks(np.arange(22), list(df.columns), rotation='vertical')\n",
    "plt.yticks(np.arange(22), list(df.columns))\n",
    "corr = data_hm.corr()\n",
    "plt.imshow(corr)\n",
    "plt.colorbar()\n",
    "plt.show()"
   ]
  },
  {
   "cell_type": "markdown",
   "metadata": {},
   "source": [
    "Sa ovog grafika se vidi da LYMPH_NODES_ECAMINED_POSITIVE i NPI, INTCLUS_5 i HER2_Status_positive imaju visok stepen korelacije, kao i GRADE_2 i GRADE_3. Pošto nismo sigurni koji će skup atributa dati najbolju predikciju, u svakom modelu probaćemo drugačiji set atributa, i na osnovu toga dati ocenu."
   ]
  },
  {
   "cell_type": "markdown",
   "metadata": {},
   "source": [
    "# Modeli"
   ]
  },
  {
   "cell_type": "markdown",
   "metadata": {},
   "source": [
    "## Random forest\n",
    "\n",
    "Vrednosti ciljnih atributa ćemo učiniti binarnim i zatim ćemo pokušati predikciju sa različitm setovima atributa."
   ]
  },
  {
   "cell_type": "markdown",
   "metadata": {},
   "source": [
    "### Odvajanje trening i test skupa"
   ]
  },
  {
   "cell_type": "code",
   "execution_count": 8,
   "metadata": {},
   "outputs": [
    {
     "name": "stderr",
     "output_type": "stream",
     "text": [
      "Intel(R) Data Analytics Acceleration Library (Intel(R) DAAL) solvers for sklearn enabled: https://intelpython.github.io/daal4py/sklearn.html\n"
     ]
    }
   ],
   "source": [
    "from sklearn import model_selection "
   ]
  },
  {
   "cell_type": "code",
   "execution_count": 9,
   "metadata": {},
   "outputs": [],
   "source": [
    "xtrain, xtest, ytrain, ytest = model_selection.train_test_split(df, y, test_size=0.1, random_state=1, shuffle=True, stratify=y)"
   ]
  },
  {
   "cell_type": "markdown",
   "metadata": {},
   "source": [
    "### Skaliranje"
   ]
  },
  {
   "cell_type": "code",
   "execution_count": 10,
   "metadata": {},
   "outputs": [],
   "source": [
    "from sklearn.preprocessing import StandardScaler"
   ]
  },
  {
   "cell_type": "code",
   "execution_count": 11,
   "metadata": {},
   "outputs": [
    {
     "name": "stderr",
     "output_type": "stream",
     "text": [
      "/home/naca/anaconda3/lib/python2.7/site-packages/sklearn/preprocessing/data.py:645: DataConversionWarning: Data with input dtype uint8, int64, float64 were all converted to float64 by StandardScaler.\n",
      "  return self.partial_fit(X, y)\n",
      "/home/naca/anaconda3/lib/python2.7/site-packages/ipykernel_launcher.py:3: DataConversionWarning: Data with input dtype uint8, int64, float64 were all converted to float64 by StandardScaler.\n",
      "  This is separate from the ipykernel package so we can avoid doing imports until\n",
      "/home/naca/anaconda3/lib/python2.7/site-packages/ipykernel_launcher.py:4: DataConversionWarning: Data with input dtype uint8, int64, float64 were all converted to float64 by StandardScaler.\n",
      "  after removing the cwd from sys.path.\n"
     ]
    }
   ],
   "source": [
    "scaler = StandardScaler()\n",
    "scaler.fit(xtrain)\n",
    "xtrain_sc = scaler.transform(xtrain)\n",
    "xtest_sc = scaler.transform(xtest)"
   ]
  },
  {
   "cell_type": "code",
   "execution_count": null,
   "metadata": {},
   "outputs": [],
   "source": []
  },
  {
   "cell_type": "markdown",
   "metadata": {},
   "source": [
    "### Modelovanje"
   ]
  },
  {
   "cell_type": "markdown",
   "metadata": {},
   "source": [
    "Kako bismo kasnije mogli da znamo koji je model doneo najbolju ocenu, čuvaćemo F-mere u jednom nizu i kasnije ćemo ih prikazati na grafiku."
   ]
  },
  {
   "cell_type": "code",
   "execution_count": 12,
   "metadata": {},
   "outputs": [],
   "source": [
    "fscores = []\n",
    "fscore_models = [] # za imena"
   ]
  },
  {
   "cell_type": "code",
   "execution_count": 13,
   "metadata": {},
   "outputs": [],
   "source": [
    "from sklearn.preprocessing import OneHotEncoder\n",
    "from sklearn.ensemble import RandomForestClassifier\n",
    "from sklearn.multiclass import OutputCodeClassifier\n",
    "from sklearn.metrics import classification_report"
   ]
  },
  {
   "cell_type": "code",
   "execution_count": 14,
   "metadata": {},
   "outputs": [
    {
     "name": "stderr",
     "output_type": "stream",
     "text": [
      "/home/naca/anaconda3/lib/python2.7/site-packages/sklearn/utils/validation.py:761: DataConversionWarning: A column-vector y was passed when a 1d array was expected. Please change the shape of y to (n_samples, ), for example using ravel().\n",
      "  y = column_or_1d(y, warn=True)\n",
      "/home/naca/anaconda3/lib/python2.7/site-packages/sklearn/ensemble/forest.py:246: FutureWarning: The default value of n_estimators will change from 10 in version 0.20 to 100 in 0.22.\n",
      "  \"10 in version 0.20 to 100 in 0.22.\", FutureWarning)\n"
     ]
    },
    {
     "name": "stdout",
     "output_type": "stream",
     "text": [
      "              precision    recall  f1-score   support\n",
      "\n",
      "       Basal       0.43      0.43      0.43        21\n",
      "        Her2       0.61      0.50      0.55        22\n",
      "        LumA       0.61      0.74      0.67        70\n",
      "        LumB       0.53      0.50      0.52        48\n",
      "      Normal       0.29      0.13      0.18        15\n",
      " claudin-low       0.32      0.32      0.32        22\n",
      "\n",
      "   micro avg       0.53      0.53      0.53       198\n",
      "   macro avg       0.46      0.44      0.44       198\n",
      "weighted avg       0.52      0.53      0.52       198\n",
      "\n"
     ]
    }
   ],
   "source": [
    "rf_classifier = OutputCodeClassifier(\n",
    "    estimator=RandomForestClassifier(random_state=0 ),\n",
    "      random_state=0, code_size=15).fit(xtrain, ytrain)\n",
    "rf_classifier.fit(xtrain, ytrain)\n",
    "rf_predictions = rf_classifier.predict(xtest)\n",
    "print(classification_report(ytest, rf_predictions))"
   ]
  },
  {
   "cell_type": "code",
   "execution_count": 15,
   "metadata": {},
   "outputs": [],
   "source": [
    "from sklearn.metrics import f1_score\n",
    "fscores.append(f1_score(ytest, rf_predictions, average='weighted'))\n",
    "fscore_models.append(\"forest_all\")"
   ]
  },
  {
   "cell_type": "markdown",
   "metadata": {},
   "source": [
    "Kako je zastupljenost klasa Normal i claudin-low manja u odnosu na ostale, probaćemo da svakoj klasi dodamo težine:"
   ]
  },
  {
   "cell_type": "code",
   "execution_count": 16,
   "metadata": {},
   "outputs": [],
   "source": [
    "from sklearn.utils import class_weight\n",
    "\n",
    "target = 'CLAUDIN_SUBTYPE'\n",
    "class_weights = list(class_weight.compute_class_weight('balanced', np.unique(ytrain), ytrain[target]))\n",
    "classes = list(np.unique(ytrain))\n",
    "class_dict = {\n",
    "        classes[0] : class_weights[0],\n",
    "        classes[1] : class_weights[1],\n",
    "        classes[2] : class_weights[2],\n",
    "        classes[3] : class_weights[3],\n",
    "        classes[4] : class_weights[4],\n",
    "        classes[5] : class_weights[5]\n",
    "}\n",
    "    "
   ]
  },
  {
   "cell_type": "code",
   "execution_count": 17,
   "metadata": {},
   "outputs": [
    {
     "name": "stdout",
     "output_type": "stream",
     "text": [
      "              precision    recall  f1-score   support\n",
      "\n",
      "       Basal       0.53      0.43      0.47        21\n",
      "        Her2       0.50      0.55      0.52        22\n",
      "        LumA       0.60      0.71      0.65        70\n",
      "        LumB       0.47      0.35      0.40        48\n",
      "      Normal       0.20      0.20      0.20        15\n",
      " claudin-low       0.23      0.23      0.23        22\n",
      "\n",
      "   micro avg       0.48      0.48      0.48       198\n",
      "   macro avg       0.42      0.41      0.41       198\n",
      "weighted avg       0.48      0.48      0.48       198\n",
      "\n"
     ]
    },
    {
     "name": "stderr",
     "output_type": "stream",
     "text": [
      "/home/naca/anaconda3/lib/python2.7/site-packages/ipykernel_launcher.py:2: DataConversionWarning: A column-vector y was passed when a 1d array was expected. Please change the shape of y to (n_samples,), for example using ravel().\n",
      "  \n"
     ]
    }
   ],
   "source": [
    "rf_classifier = RandomForestClassifier(random_state=0, class_weight=class_dict)\n",
    "rf_classifier.fit(xtrain, ytrain)\n",
    "rf_predictions = rf_classifier.predict(xtest)\n",
    "print(classification_report(ytest, rf_predictions))"
   ]
  },
  {
   "cell_type": "code",
   "execution_count": 18,
   "metadata": {},
   "outputs": [],
   "source": [
    "fscores.append(f1_score(ytest, rf_predictions, average='weighted'))\n",
    "fscore_models.append(\"forest_all_weighetd\")"
   ]
  },
  {
   "cell_type": "code",
   "execution_count": null,
   "metadata": {},
   "outputs": [],
   "source": []
  },
  {
   "cell_type": "code",
   "execution_count": null,
   "metadata": {},
   "outputs": [],
   "source": []
  },
  {
   "cell_type": "markdown",
   "metadata": {},
   "source": [
    "Hajde da vidimo možemo li bolje sa drugačijim setom atributa."
   ]
  },
  {
   "cell_type": "markdown",
   "metadata": {},
   "source": [
    "#### Poređenje rezultata modela sa različitim atributima - 1"
   ]
  },
  {
   "cell_type": "code",
   "execution_count": 19,
   "metadata": {},
   "outputs": [
    {
     "name": "stderr",
     "output_type": "stream",
     "text": [
      "/home/naca/anaconda3/lib/python2.7/site-packages/sklearn/preprocessing/data.py:645: DataConversionWarning: Data with input dtype uint8, int64 were all converted to float64 by StandardScaler.\n",
      "  return self.partial_fit(X, y)\n",
      "/home/naca/anaconda3/lib/python2.7/site-packages/ipykernel_launcher.py:8: DataConversionWarning: Data with input dtype uint8, int64 were all converted to float64 by StandardScaler.\n",
      "  \n",
      "/home/naca/anaconda3/lib/python2.7/site-packages/ipykernel_launcher.py:9: DataConversionWarning: Data with input dtype uint8, int64 were all converted to float64 by StandardScaler.\n",
      "  if __name__ == '__main__':\n"
     ]
    },
    {
     "name": "stdout",
     "output_type": "stream",
     "text": [
      "              precision    recall  f1-score   support\n",
      "\n",
      "       Basal       0.59      0.62      0.60        21\n",
      "        Her2       0.61      0.64      0.62        22\n",
      "        LumA       0.64      0.74      0.69        70\n",
      "        LumB       0.60      0.54      0.57        48\n",
      "      Normal       0.25      0.20      0.22        15\n",
      " claudin-low       0.29      0.23      0.26        22\n",
      "\n",
      "   micro avg       0.57      0.57      0.57       198\n",
      "   macro avg       0.50      0.49      0.49       198\n",
      "weighted avg       0.56      0.57      0.56       198\n",
      "\n"
     ]
    }
   ],
   "source": [
    "df = pd.concat([data['LYMPH_NODES_EXAMINED_POSITIVE'], CELLULARITY_dummy, ER_dummy, HER2SNP_dummy, HER_dummy,\n",
    "                PR_dummy, INTCLUS_dummy, GRADE_dummy], axis = 1)\n",
    "y = data[['CLAUDIN_SUBTYPE']]\n",
    "\n",
    "xtrain, xtest, ytrain, ytest = model_selection.train_test_split(df, y, test_size=0.1, random_state=1, shuffle=True, stratify=y)\n",
    "scaler = StandardScaler()\n",
    "scaler.fit(xtrain)\n",
    "xtrain_sc = scaler.transform(xtrain)\n",
    "xtest_sc = scaler.transform(xtest)\n",
    "                                                               \n",
    "rf_classifier = OutputCodeClassifier(\n",
    "    estimator=RandomForestClassifier(random_state=0),\n",
    "      random_state=0, code_size=15).fit(xtrain, ytrain)\n",
    "rf_classifier.fit(xtrain, ytrain)\n",
    "rf_predictions = rf_classifier.predict(xtest)\n",
    "\n",
    "print(classification_report(ytest, rf_predictions))"
   ]
  },
  {
   "cell_type": "code",
   "execution_count": 20,
   "metadata": {},
   "outputs": [],
   "source": [
    "fscores.append(f1_score(ytest, rf_predictions, average='weighted'))\n",
    "fscore_models.append(\"forest_fst_subset\")"
   ]
  },
  {
   "cell_type": "code",
   "execution_count": null,
   "metadata": {},
   "outputs": [],
   "source": []
  },
  {
   "cell_type": "code",
   "execution_count": null,
   "metadata": {},
   "outputs": [],
   "source": []
  },
  {
   "cell_type": "code",
   "execution_count": 21,
   "metadata": {},
   "outputs": [
    {
     "name": "stderr",
     "output_type": "stream",
     "text": [
      "/home/naca/anaconda3/lib/python2.7/site-packages/ipykernel_launcher.py:8: DataConversionWarning: Data with input dtype uint8, int64 were all converted to float64 by StandardScaler.\n",
      "  \n",
      "/home/naca/anaconda3/lib/python2.7/site-packages/ipykernel_launcher.py:9: DataConversionWarning: Data with input dtype uint8, int64 were all converted to float64 by StandardScaler.\n",
      "  if __name__ == '__main__':\n"
     ]
    },
    {
     "name": "stdout",
     "output_type": "stream",
     "text": [
      "              precision    recall  f1-score   support\n",
      "\n",
      "       Basal       0.62      0.62      0.62        21\n",
      "        Her2       0.58      0.64      0.61        22\n",
      "        LumA       0.62      0.76      0.68        70\n",
      "        LumB       0.55      0.46      0.50        48\n",
      "      Normal       0.20      0.07      0.10        15\n",
      " claudin-low       0.35      0.36      0.36        22\n",
      "\n",
      "   micro avg       0.56      0.56      0.56       198\n",
      "   macro avg       0.49      0.48      0.48       198\n",
      "weighted avg       0.54      0.56      0.54       198\n",
      "\n"
     ]
    }
   ],
   "source": [
    "df = pd.concat([data['LYMPH_NODES_EXAMINED_POSITIVE'], CELLULARITY_dummy, ER_dummy, HER2SNP_dummy, HER_dummy,\n",
    "                PR_dummy, INTCLUS_dummy], axis = 1)\n",
    "y = data[['CLAUDIN_SUBTYPE']]\n",
    "\n",
    "xtrain, xtest, ytrain, ytest = model_selection.train_test_split(df, y, test_size=0.1, random_state=1, shuffle=True, stratify=y)\n",
    "scaler = StandardScaler()\n",
    "scaler.fit(xtrain)\n",
    "xtrain_sc = scaler.transform(xtrain)\n",
    "xtest_sc = scaler.transform(xtrain)\n",
    "                                                               \n",
    "rf_classifier = OutputCodeClassifier(\n",
    "    estimator=RandomForestClassifier(random_state=0),\n",
    "      random_state=0, code_size=15).fit(xtrain, ytrain)\n",
    "rf_classifier.fit(xtrain, ytrain)\n",
    "rf_predictions = rf_classifier.predict(xtest)\n",
    "\n",
    "print(classification_report(ytest, rf_predictions))"
   ]
  },
  {
   "cell_type": "code",
   "execution_count": 22,
   "metadata": {},
   "outputs": [],
   "source": [
    "fscores.append(f1_score(ytest, rf_predictions, average='weighted'))\n",
    "fscore_models.append(\"forest_3rd_subset\")"
   ]
  },
  {
   "cell_type": "code",
   "execution_count": null,
   "metadata": {},
   "outputs": [],
   "source": []
  },
  {
   "cell_type": "code",
   "execution_count": null,
   "metadata": {},
   "outputs": [],
   "source": []
  },
  {
   "cell_type": "code",
   "execution_count": null,
   "metadata": {},
   "outputs": [],
   "source": []
  },
  {
   "cell_type": "code",
   "execution_count": 23,
   "metadata": {},
   "outputs": [
    {
     "name": "stderr",
     "output_type": "stream",
     "text": [
      "/home/naca/anaconda3/lib/python2.7/site-packages/sklearn/preprocessing/data.py:645: DataConversionWarning: Data with input dtype uint8 were all converted to float64 by StandardScaler.\n",
      "  return self.partial_fit(X, y)\n",
      "/home/naca/anaconda3/lib/python2.7/site-packages/ipykernel_launcher.py:8: DataConversionWarning: Data with input dtype uint8 were all converted to float64 by StandardScaler.\n",
      "  \n",
      "/home/naca/anaconda3/lib/python2.7/site-packages/ipykernel_launcher.py:9: DataConversionWarning: Data with input dtype uint8 were all converted to float64 by StandardScaler.\n",
      "  if __name__ == '__main__':\n"
     ]
    },
    {
     "name": "stdout",
     "output_type": "stream",
     "text": [
      "              precision    recall  f1-score   support\n",
      "\n",
      "       Basal       0.74      0.67      0.70        21\n",
      "        Her2       0.67      0.55      0.60        22\n",
      "        LumA       0.58      0.83      0.68        70\n",
      "        LumB       0.60      0.44      0.51        48\n",
      "      Normal       0.20      0.07      0.10        15\n",
      " claudin-low       0.38      0.36      0.37        22\n",
      "\n",
      "   micro avg       0.58      0.58      0.58       198\n",
      "   macro avg       0.53      0.48      0.49       198\n",
      "weighted avg       0.56      0.58      0.55       198\n",
      "\n"
     ]
    }
   ],
   "source": [
    "df = pd.concat([ER_dummy,  GRADE_dummy, HER2SNP_dummy,\n",
    "                PR_dummy, INTCLUS_dummy], axis = 1)\n",
    "y = data[['CLAUDIN_SUBTYPE']]\n",
    "\n",
    "xtrain, xtest, ytrain, ytest = model_selection.train_test_split(df, y, test_size=0.1, random_state=1, shuffle=True, stratify=y)\n",
    "scaler = StandardScaler()\n",
    "scaler.fit(xtrain)\n",
    "xtrain_sc = scaler.transform(xtrain)\n",
    "xtest_sc = scaler.transform(xtest)\n",
    "                                                               \n",
    "rf_classifier = OutputCodeClassifier(\n",
    "    estimator=RandomForestClassifier(random_state=0),\n",
    "      random_state=0, code_size=15).fit(xtrain, ytrain)\n",
    "rf_classifier.fit(xtrain, ytrain)\n",
    "rf_predictions = rf_classifier.predict(xtest)\n",
    "\n",
    "print(classification_report(ytest, rf_predictions))"
   ]
  },
  {
   "cell_type": "code",
   "execution_count": 24,
   "metadata": {},
   "outputs": [],
   "source": [
    "fscores.append(f1_score(ytest, rf_predictions, average='weighted'))\n",
    "fscore_models.append(\"forest_5th_subset\")"
   ]
  },
  {
   "cell_type": "code",
   "execution_count": 40,
   "metadata": {},
   "outputs": [],
   "source": [
    "# plt.figure(figsize=(12, 3))\n",
    "# plt.bar(fscore_models, fscores)"
   ]
  },
  {
   "cell_type": "markdown",
   "metadata": {},
   "source": [
    "## Linear SVC"
   ]
  },
  {
   "cell_type": "code",
   "execution_count": 26,
   "metadata": {},
   "outputs": [],
   "source": [
    "from sklearn.svm import LinearSVC"
   ]
  },
  {
   "cell_type": "code",
   "execution_count": 27,
   "metadata": {},
   "outputs": [],
   "source": [
    "fscores_svc = []\n",
    "fscores_models_svc = []"
   ]
  },
  {
   "cell_type": "code",
   "execution_count": 28,
   "metadata": {},
   "outputs": [
    {
     "name": "stderr",
     "output_type": "stream",
     "text": [
      "/home/naca/anaconda3/lib/python2.7/site-packages/ipykernel_launcher.py:9: DataConversionWarning: Data with input dtype uint8, int64, float64 were all converted to float64 by StandardScaler.\n",
      "  if __name__ == '__main__':\n",
      "/home/naca/anaconda3/lib/python2.7/site-packages/ipykernel_launcher.py:10: DataConversionWarning: Data with input dtype uint8, int64, float64 were all converted to float64 by StandardScaler.\n",
      "  # Remove the CWD from sys.path while we load stuff.\n",
      "/home/naca/anaconda3/lib/python2.7/site-packages/sklearn/svm/base.py:931: ConvergenceWarning: Liblinear failed to converge, increase the number of iterations.\n",
      "  \"the number of iterations.\", ConvergenceWarning)\n"
     ]
    },
    {
     "name": "stdout",
     "output_type": "stream",
     "text": [
      "              precision    recall  f1-score   support\n",
      "\n",
      "       Basal       0.50      0.71      0.59        21\n",
      "        Her2       0.58      0.68      0.62        22\n",
      "        LumA       0.57      0.81      0.67        70\n",
      "        LumB       0.41      0.33      0.37        48\n",
      "      Normal       1.00      0.07      0.12        15\n",
      " claudin-low       0.00      0.00      0.00        22\n",
      "\n",
      "   micro avg       0.53      0.53      0.53       198\n",
      "   macro avg       0.51      0.44      0.40       198\n",
      "weighted avg       0.49      0.53      0.47       198\n",
      "\n"
     ]
    }
   ],
   "source": [
    "df = pd.concat([data['LYMPH_NODES_EXAMINED_POSITIVE'], data['NPI'], CELLULARITY_dummy, ER_dummy, \n",
    "                HER2SNP_dummy, HER_dummy,\n",
    "                PR_dummy, GRADE_dummy], axis = 1)\n",
    "y = data[['CLAUDIN_SUBTYPE']]\n",
    "\n",
    "xtrain, xtest, ytrain, ytest = model_selection.train_test_split(df, y, test_size=0.1, random_state=1, shuffle=True, stratify=y)\n",
    "scaler = StandardScaler()\n",
    "scaler.fit(xtrain)\n",
    "xtrain_sc = scaler.transform(xtrain)\n",
    "xtest_sc = scaler.transform(xtest)\n",
    "                                                               \n",
    "clf = OutputCodeClassifier(\n",
    "    estimator=LinearSVC(random_state=0, multi_class='ovr'),\n",
    "      random_state=0, code_size=15).fit(xtrain_sc, ytrain)\n",
    "\n",
    "clf_predicions = clf.predict(xtest_sc)\n",
    "\n",
    "print(classification_report(ytest, clf_predicions))"
   ]
  },
  {
   "cell_type": "code",
   "execution_count": 29,
   "metadata": {},
   "outputs": [],
   "source": [
    "fscores_svc.append(f1_score(ytest, clf_predicions, average='weighted'))\n",
    "fscores_models_svc.append(\"all\")\n",
    "fscores.append(f1_score(ytest, clf_predicions, average='weighted'))\n",
    "fscore_models.append(\"svc_all\")"
   ]
  },
  {
   "cell_type": "code",
   "execution_count": null,
   "metadata": {},
   "outputs": [],
   "source": []
  },
  {
   "cell_type": "code",
   "execution_count": 39,
   "metadata": {},
   "outputs": [
    {
     "name": "stderr",
     "output_type": "stream",
     "text": [
      "/home/naca/anaconda3/lib/python2.7/site-packages/ipykernel_launcher.py:8: DataConversionWarning: Data with input dtype uint8, int64 were all converted to float64 by StandardScaler.\n",
      "  \n",
      "/home/naca/anaconda3/lib/python2.7/site-packages/ipykernel_launcher.py:9: DataConversionWarning: Data with input dtype uint8, int64 were all converted to float64 by StandardScaler.\n",
      "  if __name__ == '__main__':\n"
     ]
    },
    {
     "name": "stdout",
     "output_type": "stream",
     "text": [
      "              precision    recall  f1-score   support\n",
      "\n",
      "       Basal       0.70      0.76      0.73        21\n",
      "        Her2       0.64      0.64      0.64        22\n",
      "        LumA       0.60      0.91      0.73        70\n",
      "        LumB       0.69      0.42      0.52        48\n",
      "      Normal       0.00      0.00      0.00        15\n",
      " claudin-low       0.50      0.41      0.45        22\n",
      "\n",
      "   micro avg       0.62      0.62      0.62       198\n",
      "   macro avg       0.52      0.52      0.51       198\n",
      "weighted avg       0.58      0.62      0.58       198\n",
      "\n"
     ]
    }
   ],
   "source": [
    "df = pd.concat([data['LYMPH_NODES_EXAMINED_POSITIVE'], CELLULARITY_dummy, ER_dummy, HER2SNP_dummy, HER_dummy,\n",
    "                PR_dummy, INTCLUS_dummy, GRADE_dummy], axis = 1)\n",
    "y = data[['CLAUDIN_SUBTYPE']]\n",
    "\n",
    "xtrain, xtest, ytrain, ytest = model_selection.train_test_split(df, y, test_size=0.1, random_state=1, shuffle=True, stratify=y)\n",
    "scaler = StandardScaler()\n",
    "scaler.fit(xtrain)\n",
    "xtrain_sc = scaler.transform(xtrain)\n",
    "xtest_sc = scaler.transform(xtest)\n",
    "                                                               \n",
    "clf = OutputCodeClassifier(\n",
    "    estimator=LinearSVC(random_state=0, multi_class='ovr'),\n",
    "      random_state=0, code_size=15).fit(xtrain_sc, ytrain)\n",
    "\n",
    "clf_predicions = clf.predict(xtest_sc)\n",
    "print(classification_report(ytest, clf_predicions))"
   ]
  },
  {
   "cell_type": "code",
   "execution_count": 31,
   "metadata": {},
   "outputs": [
    {
     "name": "stderr",
     "output_type": "stream",
     "text": [
      "/home/naca/anaconda3/lib/python2.7/site-packages/sklearn/metrics/classification.py:1143: UndefinedMetricWarning: F-score is ill-defined and being set to 0.0 in labels with no predicted samples.\n",
      "  'precision', 'predicted', average, warn_for)\n"
     ]
    }
   ],
   "source": [
    "fscores_svc.append(f1_score(ytest, clf_predicions, average='weighted'))\n",
    "fscores_models_svc.append(\"fst_subset\")\n",
    "fscores.append(f1_score(ytest, clf_predicions, average='weighted'))\n",
    "fscore_models.append(\"svc_fst_subset\")"
   ]
  },
  {
   "cell_type": "code",
   "execution_count": null,
   "metadata": {},
   "outputs": [],
   "source": []
  },
  {
   "cell_type": "code",
   "execution_count": 32,
   "metadata": {},
   "outputs": [
    {
     "name": "stderr",
     "output_type": "stream",
     "text": [
      "/home/naca/anaconda3/lib/python2.7/site-packages/ipykernel_launcher.py:8: DataConversionWarning: Data with input dtype uint8 were all converted to float64 by StandardScaler.\n",
      "  \n",
      "/home/naca/anaconda3/lib/python2.7/site-packages/ipykernel_launcher.py:9: DataConversionWarning: Data with input dtype uint8 were all converted to float64 by StandardScaler.\n",
      "  if __name__ == '__main__':\n"
     ]
    },
    {
     "name": "stdout",
     "output_type": "stream",
     "text": [
      "              precision    recall  f1-score   support\n",
      "\n",
      "       Basal       0.71      0.81      0.76        21\n",
      "        Her2       0.72      0.59      0.65        22\n",
      "        LumA       0.58      0.87      0.70        70\n",
      "        LumB       0.61      0.42      0.49        48\n",
      "      Normal       0.00      0.00      0.00        15\n",
      " claudin-low       0.50      0.41      0.45        22\n",
      "\n",
      "   micro avg       0.61      0.61      0.61       198\n",
      "   macro avg       0.52      0.52      0.51       198\n",
      "weighted avg       0.56      0.61      0.57       198\n",
      "\n"
     ]
    }
   ],
   "source": [
    "df = pd.concat([ER_dummy,  GRADE_dummy, HER2SNP_dummy,\n",
    "                PR_dummy, INTCLUS_dummy], axis = 1)\n",
    "y = data[['CLAUDIN_SUBTYPE']]\n",
    "\n",
    "xtrain, xtest, ytrain, ytest = model_selection.train_test_split(df, y, test_size=0.1, random_state=1, shuffle=True, stratify=y)\n",
    "scaler = StandardScaler()\n",
    "scaler.fit(xtrain)\n",
    "xtrain_sc = scaler.transform(xtrain)\n",
    "xtest_sc = scaler.transform(xtest)\n",
    "                                                               \n",
    "clf = OutputCodeClassifier(\n",
    "    estimator=LinearSVC(random_state=0, multi_class='ovr'),\n",
    "      random_state=0, code_size=15).fit(xtrain_sc, ytrain)\n",
    "\n",
    "clf_predicions = clf.predict(xtest_sc)\n",
    "print(classification_report(ytest, clf_predicions))"
   ]
  },
  {
   "cell_type": "code",
   "execution_count": 33,
   "metadata": {},
   "outputs": [],
   "source": [
    "fscores_svc.append(f1_score(ytest, clf_predicions, average='weighted'))\n",
    "fscores_models_svc.append(\"scnd_subset\")\n",
    "fscores.append(f1_score(ytest, clf_predicions, average='weighted'))\n",
    "fscore_models.append(\"svc_scnd_subset\")"
   ]
  },
  {
   "cell_type": "code",
   "execution_count": 35,
   "metadata": {},
   "outputs": [
    {
     "data": {
      "text/plain": [
       "<BarContainer object of 8 artists>"
      ]
     },
     "execution_count": 35,
     "metadata": {},
     "output_type": "execute_result"
    },
    {
     "data": {
      "image/png": "[encoded data removed]",
      "text/plain": [
       "<Figure size 1440x216 with 1 Axes>"
      ]
     },
     "metadata": {
      "needs_background": "light"
     },
     "output_type": "display_data"
    }
   ],
   "source": [
    "plt.figure(figsize=(20, 3))\n",
    "plt.bar(fscore_models, fscores)"
   ]
  },
  {
   "cell_type": "code",
   "execution_count": null,
   "metadata": {},
   "outputs": [],
   "source": []
  },
  {
   "cell_type": "code",
   "execution_count": null,
   "metadata": {},
   "outputs": [],
   "source": []
  },
  {
   "cell_type": "code",
   "execution_count": null,
   "metadata": {},
   "outputs": [],
   "source": []
  },
  {
   "cell_type": "code",
   "execution_count": null,
   "metadata": {},
   "outputs": [],
   "source": []
  }
 ],
 "metadata": {
  "kernelspec": {
   "display_name": "Python 3",
   "language": "python",
   "name": "python3"
  },
  "language_info": {
   "codemirror_mode": {
    "name": "ipython",
    "version": 2
   },
   "file_extension": ".py",
   "mimetype": "text/x-python",
   "name": "python",
   "nbconvert_exporter": "python",
   "pygments_lexer": "ipython2",
   "version": "2.7.17"
  }
 },
 "nbformat": 4,
 "nbformat_minor": 2
}
